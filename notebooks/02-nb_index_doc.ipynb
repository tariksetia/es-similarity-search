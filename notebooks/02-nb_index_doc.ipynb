{
 "cells": [
  {
   "cell_type": "code",
   "execution_count": 1,
   "metadata": {},
   "outputs": [],
   "source": [
    "from similarity_search.model import EmbeddingModel\n",
    "from elasticsearch import Elasticsearch\n",
    "import eland as ed\n",
    "import pandas as pd\n",
    "import tqdm\n",
    "from tqdm.auto import tqdm\n",
    "\n",
    "tqdm.pandas()"
   ]
  },
  {
   "cell_type": "code",
   "execution_count": 4,
   "metadata": {},
   "outputs": [
    {
     "name": "stdout",
     "output_type": "stream",
     "text": [
      "sd\n"
     ]
    }
   ],
   "source": [
    "ES_URL = \"http://0.0.0.0:9200\"\n",
    "PASSAGE_FILE = \"./data/marco-passage-with-embedding-msmarco-MiniLM-L-12-v3.pkl\"\n",
    "client = Elasticsearch(ES_URL)\n",
    "\n",
    "if client.indices.exists(index=\"collections\"):\n",
    "    print(\"sd\")"
   ]
  },
  {
   "cell_type": "code",
   "execution_count": 3,
   "metadata": {},
   "outputs": [],
   "source": [
    "model = EmbeddingModel(\n",
    "    url=ES_URL,\n",
    "    hub_model_id=\"sentence-transformers/msmarco-MiniLM-L-12-v3\",\n",
    "    task_type=\"text_embedding\",\n",
    "    es_client=client,\n",
    "    es_model_id=\"msmarco-MiniLM-L-12-v3\".lower().replace(\"-\", \"_\"),\n",
    ")\n",
    "if not model.exists:\n",
    "    model.deploy()"
   ]
  },
  {
   "cell_type": "code",
   "execution_count": 4,
   "metadata": {},
   "outputs": [
    {
     "data": {
      "text/plain": [
       "(384,)"
      ]
     },
     "execution_count": 4,
     "metadata": {},
     "output_type": "execute_result"
    }
   ],
   "source": [
    "data = pd.read_pickle(PASSAGE_FILE)\n",
    "data[\"text_embeddings\"][0].shape"
   ]
  },
  {
   "cell_type": "code",
   "execution_count": 5,
   "metadata": {},
   "outputs": [],
   "source": [
    "collections_mappings = {\n",
    "    \"mappings\": {\n",
    "        \"properties\": {\n",
    "            \"id\": {\"type\": \"integer\"},\n",
    "            \"text\": {\n",
    "                \"type\": \"text\",\n",
    "            },\n",
    "            \"text_embeddings\": {\n",
    "                \"index\": True,\n",
    "                \"type\": \"dense_vector\",\n",
    "                \"dims\": 384,\n",
    "                \"similarity\": \"cosine\",\n",
    "            },\n",
    "        }\n",
    "    }\n",
    "}\n",
    "if not client.indices.exists(index=\"collections\"):\n",
    "    client.indices.create(index=\"collections\", body=collections_mappings)"
   ]
  },
  {
   "cell_type": "code",
   "execution_count": 6,
   "metadata": {},
   "outputs": [],
   "source": [
    "def index_df(row, es_client):\n",
    "    doc = {\n",
    "        \"id\": row[\"id\"],\n",
    "        \"text\": row[\"text\"],\n",
    "        \"text_embeddings\": row[\"text_embeddings\"],\n",
    "    }\n",
    "    resp = es_client.index(\n",
    "        index=\"collections\",\n",
    "        document=doc,\n",
    "    )\n",
    "\n",
    "\n",
    "# data.progress_apply(lambda x: index_df(x, client), axis=1)"
   ]
  },
  {
   "cell_type": "code",
   "execution_count": 7,
   "metadata": {},
   "outputs": [
    {
     "data": {
      "text/plain": [
       "['id', 'text', 'text_embeddings']"
      ]
     },
     "execution_count": 7,
     "metadata": {},
     "output_type": "execute_result"
    }
   ],
   "source": [
    "from similarity_search.index import Index\n",
    "\n",
    "\n",
    "_collections = Index(\"collections\", client, 10, model)\n",
    "_collections.fields"
   ]
  },
  {
   "cell_type": "code",
   "execution_count": 8,
   "metadata": {},
   "outputs": [
    {
     "data": {
      "text/plain": [
       "[{'score': 10.957546,\n",
       "  'source': {'id': 3905806,\n",
       "   'text': 'hydrogen price per ton hydrogen price in industrial pure hydrogen price hot-sales liquid hydrogen price hot-selling liquid hydrogen price industrial hydrogen price methyl hydrogen price ethylene hydrogen price liquid hydrogen price 99 liquid hydrogen chloride liquid hydrogen fluoride buy liquid hydrogen tank liquid hydrogen uses liquid hydrogen More ...'}},\n",
       " {'score': 10.290877,\n",
       "  'source': {'id': 1721142,\n",
       "   'text': 'Buy Compressed Hydrogen Gas or Liquid Hydrogen (H2) Buy Compressed Hydrogen Gas or Liquid Hydrogen (H2) We offer compressed hydrogen gas and liquid hydrogen (H2) in a variety of purities and concentrations. See the chart below and download the spec sheets and safety data sheets for more information on buying liquid hydrogen and hydrogen gas from Praxair.'}},\n",
       " {'score': 10.084263,\n",
       "  'source': {'id': 8596871,\n",
       "   'text': 'Hydrogen safety covers the safe production, handling and use of hydrogen-particularly hydrogen gas fuel and liquid hydrogen. The main concern in working with hydrogen is flammability. Liquid hydrogen is sometimes used as an extremely condensed hydrogen fuel; it is also used as a coolant for electric generators in power stations. 2  Hydrogen is also used as a feedstock in industrial processes including production of ammonia and methanol.'}},\n",
       " {'score': 9.803978,\n",
       "  'source': {'id': 3160918,\n",
       "   'text': 'So altogether, Jupiter is pretty much made up of hydrogen and helium. Jupiter is 84% hydrogen and 14% helium, leaving 2% other gasses. Jupiter is composed of a relatively small rocky core, surrounded by metallic hydrogen, surrounded by liquid hydrogen, which is surrounded by gaseous hydrogen.'}},\n",
       " {'score': 9.803051,\n",
       "  'source': {'id': 8179087,\n",
       "   'text': 'At room temperature, it is a colourless gas, like all of the hydrogen halides except hydrogen fluoride, since hydrogen cannot form strong hydrogen bonds to the large and only mildly electronegative iodine atom.'}},\n",
       " {'score': 9.753211,\n",
       "  'source': {'id': 7132885,\n",
       "   'text': 'Figure 21 Illustrates hydrogen bonding between two water molecules as observed in water. The hydrogen bonds are short, linear and strong. These are two-center hydrogen bonds. Although each water molecule in liquid water and in ice forms four hydrogen bonds, only one hydrogen bond is shown here.'}},\n",
       " {'score': 9.753211,\n",
       "  'source': {'id': 998750,\n",
       "   'text': 'This highlights the density problem for pure hydrogen: there is actually about 64% more hydrogen in a liter of gasoline (116 grams hydrogen) than there is in a liter of pure liquid hydrogen (71 grams hydrogen). The carbon in the gasoline also contributes to the energy of combustion.'}},\n",
       " {'score': 9.732657,\n",
       "  'source': {'id': 128984,\n",
       "   'text': 'Hydrogen gas has the molecular formula H 2. At room temperature and under standard pressure conditions, hydrogen is a gas that is tasteless, odorless and colorless. Hydrogen can exist as a liquid under high pressure and an extremely low temperature of 20.28 kelvin (−252.87°C, −423.17 °F). Hydrogen is often stored in this way as liquid hydrogen takes up less space than hydrogen in its normal gas form. Liquid hydrogen is also used as a rocket fuel.'}},\n",
       " {'score': 9.70831,\n",
       "  'source': {'id': 8137708,\n",
       "   'text': 'Hydrogen disulfide. Hydrogen disulfide is the inorganic compound with the formula H2S2. This hydrogen chalcogenide is a pale yellow volatile liquid with a camphor-like odor. It decomposes readily to hydrogen sulfide (H2S) and elemental sulfur.'}},\n",
       " {'score': 9.616868,\n",
       "  'source': {'id': 4232876,\n",
       "   'text': 'Water – Hydrogen Bonds The slightly negative oxygen atom of one water molecule is attracted to the slightly positive hydrogen atoms of nearby water molecules, forming hydrogen bonds. Each water molecule can form hydrogen bonds with up to four neighbors. Hydrogen bonds hold water molecules together. They form, break, and reform with great frequency. Extraordinary Properties that are a result of hydrogen bonds: Cohesive and adhesive behavior Resists changes in temperature'}}]"
      ]
     },
     "execution_count": 8,
     "metadata": {},
     "output_type": "execute_result"
    }
   ],
   "source": [
    "from similarity_search.utils import get_df\n",
    "\n",
    "\n",
    "resp = _collections.full_text_search(\"text\", \"hydrogen\", fields=[\"id\", \"text\"])\n",
    "get_df(resp)"
   ]
  },
  {
   "cell_type": "code",
   "execution_count": 9,
   "metadata": {},
   "outputs": [
    {
     "name": "stderr",
     "output_type": "stream",
     "text": [
      "/Users/tarik.setia/Desktop/es-similarity-search/similarity_search/index.py:49: ElasticsearchWarning: The kNN search API has been replaced by the `knn` option in the search API.\n",
      "  resp = self.es_client.knn_search(index=self.name, knn=query, source=fields)\n"
     ]
    },
    {
     "data": {
      "text/plain": [
       "[{'score': 0.7867255,\n",
       "  'source': {'id': 128984,\n",
       "   'text': 'Hydrogen gas has the molecular formula H 2. At room temperature and under standard pressure conditions, hydrogen is a gas that is tasteless, odorless and colorless. Hydrogen can exist as a liquid under high pressure and an extremely low temperature of 20.28 kelvin (−252.87°C, −423.17 °F). Hydrogen is often stored in this way as liquid hydrogen takes up less space than hydrogen in its normal gas form. Liquid hydrogen is also used as a rocket fuel.'}},\n",
       " {'score': 0.78181136,\n",
       "  'source': {'id': 4509079,\n",
       "   'text': 'Wiktionary (0.00 / 0 votes) Rate this definition: hydrogen (Noun). The lightest chemical element (symbol H) with an atomic number of 1 and atomic weight of 1.00794. hydrogen (Noun). Molecular hydrogen (H), a colourless, odourless and flammable gas at room temperature.'}},\n",
       " {'score': 0.77747226,\n",
       "  'source': {'id': 4509080,\n",
       "   'text': 'Wiktionary (0.00 / 0 votes) Rate this definition: hydrogen (Noun). The lightest chemical element (symbol H) with an atomic number of 1 and atomic weight of 1.00794. hydrogen (Noun). Molecular hydrogen (H), a colourless, odourless and flammable gas at room temperature. hydrogen (Noun). An atom of the element.'}},\n",
       " {'score': 0.7761532,\n",
       "  'source': {'id': 6343523,\n",
       "   'text': 'Hydrogen is the first element in the periodic table. It is the simplest possible atom composed of one proton in the nucleus which is orbited by a single electron. Hydrogen is the lightest of the elements and is the most abundant element in the universe. At standard temperature and pressure hydrogen is a colorless, odorless, and tasteless gas.'}},\n",
       " {'score': 0.7701426,\n",
       "  'source': {'id': 710733,\n",
       "   'text': 'Hydrogen is a chemical element with chemical symbol H and atomic number 1. With an atomic weight of 7000100794000000000♠1.00794 u, hydrogen is the lightest element on the periodic table.Its monatomic form (H) is the most abundant chemical substance in the universe, constituting roughly 75% of all baryonic mass. Non-remnant stars are mainly composed of hydrogen in its plasma state.ritium (hydrogen-3), produced in nuclear reactors, is used in the production of hydrogen bombs, as an isotopic label in the biosciences, and as a radiation source in luminous paints. The triple point temperature of equilibrium hydrogen is a defining fixed point on the ITS-90 temperature scale at 13.8033 kelvins.'}},\n",
       " {'score': 0.76849246,\n",
       "  'source': {'id': 3905800,\n",
       "   'text': 'Hydrogen is the lightest of the elements with an atomic weight of 1.0. Liquid hydrogen has a density of 0.07 grams per cubic centimeter, whereas water has a density of 1.0 g/cc and gasoline about 0.75 g/cc. These facts give hydrogen both advantages and disadvantages.'}},\n",
       " {'score': 0.76804614,\n",
       "  'source': {'id': 3905057,\n",
       "   'text': 'Hydrogen is a colorless, odorless, tasteless gas. Its density is the lowest of any chemical element, 0.08999 grams per liter. By comparison, a liter of air weighs 1.29 grams, 14 times as much as a liter of hydrogen. Hydrogen changes from a gas to a liquid at a temperature of -252.77°C (-422.99°F) and from a liquid to a solid at a temperature of -259.2°C (-434.6°F). It is slightly soluble in water, alcohol, and a few other common liquids.'}},\n",
       " {'score': 0.7580369,\n",
       "  'source': {'id': 7049948,\n",
       "   'text': 'The universal emergence of atomic hydrogen first occurred during the recombination epoch . At standard temperature and pressure , hydrogen is a colorless , odorless , tasteless , non-toxic, nonmetallic , highly combustible diatomic gas with the molecular formula H2. Since hydrogen readily forms covalent compounds with most nonmetallic elements, most of the hydrogen on Earth exists in molecular forms such as water or organic compounds'}},\n",
       " {'score': 0.75242287,\n",
       "  'source': {'id': 5909536,\n",
       "   'text': 'Hydrogen in the atmosphere of the Earth would have the same temperature as the nitrogen and oxygen. Therefore, the molecules of hydrogen have the same kinetic energy, on average. But since hydrogen is the lightest element (its atomic weight is only 1/16 that of oxygen), it must have a higher velocity.'}},\n",
       " {'score': 0.75237,\n",
       "  'source': {'id': 4904404,\n",
       "   'text': 'The word hydrogen comes from the Greek word for water forming.. NASA (National Aeronautics and Space Administration) is the largest user of liquid hydrogen in the world. They are famous for the safe handling of hydrogen.Founded in 1958, NASA is in the USA and has added huge contributions to the history of hydrogen.he word hydrogen comes from the Greek word for water forming.. NASA (National Aeronautics and Space Administration) is the largest user of liquid hydrogen in the world. They are famous for the safe handling of hydrogen.'}}]"
      ]
     },
     "execution_count": 9,
     "metadata": {},
     "output_type": "execute_result"
    }
   ],
   "source": [
    "resp = _collections.knn_search(\"text_embeddings\", \"hydrogen\", fields=[\"id\", \"text\"])\n",
    "resp"
   ]
  },
  {
   "cell_type": "code",
   "execution_count": null,
   "metadata": {},
   "outputs": [],
   "source": []
  }
 ],
 "metadata": {
  "kernelspec": {
   "display_name": ".venv",
   "language": "python",
   "name": "python3"
  },
  "language_info": {
   "codemirror_mode": {
    "name": "ipython",
    "version": 3
   },
   "file_extension": ".py",
   "mimetype": "text/x-python",
   "name": "python",
   "nbconvert_exporter": "python",
   "pygments_lexer": "ipython3",
   "version": "3.11.3"
  },
  "orig_nbformat": 4
 },
 "nbformat": 4,
 "nbformat_minor": 2
}
